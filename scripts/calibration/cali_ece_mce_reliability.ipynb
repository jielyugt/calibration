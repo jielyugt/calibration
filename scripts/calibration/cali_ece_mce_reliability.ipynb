{
 "cells": [
  {
   "cell_type": "markdown",
   "metadata": {},
   "source": [
    "# Reliability Diagram"
   ]
  },
  {
   "cell_type": "code",
   "execution_count": null,
   "metadata": {},
   "outputs": [],
   "source": [
    "from matplotlib import pyplot as plt\n",
    "import numpy as np\n",
    "import pandas as pd\n",
    "from os.path import join\n",
    "\n",
    "from cal_methods import HistogramBinning, TemperatureScaling\n",
    "from sklearn.isotonic import IsotonicRegression\n",
    "from sklearn.linear_model import LogisticRegression\n",
    "\n",
    "import sys\n",
    "from os import path\n",
    "sys.path.append(path.dirname(path.dirname( path.abspath(\"utility\"))))\n",
    "from utility.unpickle_probs import unpickle_probs\n",
    "from utility.evaluation import get_bin_info, softmax, ECE, MCE"
   ]
  },
  {
   "cell_type": "markdown",
   "metadata": {},
   "source": [
    "## Load in the data"
   ]
  },
  {
   "cell_type": "code",
   "execution_count": null,
   "metadata": {},
   "outputs": [],
   "source": [
    "# PATH = '../../logits/EXP2/hist_1'\n",
    "# files = [\n",
    "#     'cp_10_logits.p',\n",
    "#     'cp_50_logits.p',\n",
    "#     'cp_100_logits.p',\n",
    "#     'cp_200_logits.p',\n",
    "#     'cp_300_logits.p',\n",
    "#     'cp_500_logits.p'\n",
    "# ]"
   ]
  },
  {
   "cell_type": "markdown",
   "metadata": {},
   "source": [
    "### Reliability diagrams as subgraph"
   ]
  },
  {
   "cell_type": "code",
   "execution_count": null,
   "metadata": {},
   "outputs": [],
   "source": [
    "# reliability diagram plotting for subplot case.\n",
    "def rel_diagram_sub(accs, confs, ax, M = 10, name = \"Reliability Diagram\", xname = \"\", yname=\"\"):\n",
    "\n",
    "    acc_conf = np.column_stack([accs,confs])\n",
    "    acc_conf.sort(axis=1)\n",
    "    outputs = acc_conf[:, 0]\n",
    "    gap = acc_conf[:, 1]\n",
    "\n",
    "    bin_size = 1/M\n",
    "    positions = np.arange(0+bin_size/2, 1+bin_size/2, bin_size)\n",
    "\n",
    "    # Plot gap first, so its below everything\n",
    "    gap_plt = ax.bar(positions, gap, width = bin_size, edgecolor = \"red\", color = \"red\", alpha = 0.3, label=\"Gap\", linewidth=2, zorder=2)\n",
    "\n",
    "    #Bars with outputs\n",
    "    output_plt = ax.bar(positions, outputs, width = bin_size, edgecolor = \"black\", color = \"blue\", label=\"Outputs\", zorder = 3)\n",
    "\n",
    "    # Line plot with center line.\n",
    "    ax.set_aspect('equal')\n",
    "    ax.plot([0,1], [0,1], linestyle = \"--\")\n",
    "    ax.legend(handles = [gap_plt, output_plt])\n",
    "    ax.set_xlim(0,1)\n",
    "    ax.set_ylim(0,1)\n",
    "    ax.set_title(name, fontsize=24)\n",
    "    ax.set_xlabel(xname, fontsize=22, color = \"black\")\n",
    "    ax.set_ylabel(yname, fontsize=22, color = \"black\")"
   ]
  },
  {
   "cell_type": "code",
   "execution_count": null,
   "metadata": {},
   "outputs": [],
   "source": [
    "def get_pred_conf(y_probs, normalize = False):\n",
    "    \n",
    "    y_preds = np.argmax(y_probs, axis=1)  # Take maximum confidence as prediction\n",
    "\n",
    "    if normalize:\n",
    "        y_confs = np.max(y_probs, axis=1)/np.sum(y_probs, axis=1)\n",
    "    else:\n",
    "        y_confs = np.max(y_probs, axis=1)  # Take only maximum confidence\n",
    "        \n",
    "    return y_preds, y_confs"
   ]
  },
  {
   "cell_type": "markdown",
   "metadata": {},
   "source": [
    "## Calibration methods for both 1-vs-rest and mutliclass approach"
   ]
  },
  {
   "cell_type": "code",
   "execution_count": null,
   "metadata": {},
   "outputs": [],
   "source": [
    "def cal_res(method, path, file, M = 15, name = \"\", approach = \"single\", m_kwargs = {}):    \n",
    "    bin_size = 1/M\n",
    "\n",
    "    FILE_PATH = join(path, file)\n",
    "    (y_logits_val, y_val), (y_logits_test, y_test) = unpickle_probs(FILE_PATH)\n",
    "    \n",
    "    y_probs_val = softmax(y_logits_val)\n",
    "    y_probs_test = softmax(y_logits_test)\n",
    "    \n",
    "    if method is None:\n",
    "        y_preds_test, y_confs_test = get_pred_conf(y_probs_test, normalize = False)\n",
    "        return get_bin_info(y_confs_test, y_preds_test, y_test, bin_size = bin_size)\n",
    "    \n",
    "    \n",
    "    if approach == \"single\":\n",
    "        \n",
    "        K = y_probs_test.shape[1]\n",
    "\n",
    "        # Go through all the classes\n",
    "        for k in range(K):\n",
    "            # Prep class labels (1 fixed true class, 0 other classes)\n",
    "            y_cal = np.array(y_val == k, dtype=\"int\")[:, 0]\n",
    "\n",
    "            # Train model\n",
    "            model = method(**m_kwargs)\n",
    "            model.fit(y_probs_val[:, k], y_cal) # Get only one column with probs for given class \"k\"\n",
    "\n",
    "            y_probs_val[:, k] = model.predict(y_probs_val[:, k])  # Predict new values based on the fittting\n",
    "            y_probs_test[:, k] = model.predict(y_probs_test[:, k])\n",
    "\n",
    "            # Replace NaN with 0, as it should be close to zero  # TODO is it needed?\n",
    "            idx_nan = np.where(np.isnan(y_probs_test))\n",
    "            y_probs_test[idx_nan] = 0\n",
    "\n",
    "            idx_nan = np.where(np.isnan(y_probs_val))\n",
    "            y_probs_val[idx_nan] = 0\n",
    "            \n",
    "            y_preds_val, y_confs_val = get_pred_conf(y_probs_val, normalize = False)\n",
    "            y_preds_test, y_confs_test = get_pred_conf(y_probs_test, normalize = False)\n",
    "    \n",
    "    else:\n",
    "        model = method(**m_kwargs)\n",
    "        model.fit(y_logits_val, y_val)\n",
    "\n",
    "        y_probs_val = model.predict(y_logits_val) \n",
    "        y_probs_test = model.predict(y_logits_test)\n",
    "\n",
    "        y_preds_val, y_confs_val = get_pred_conf(y_probs_val, normalize = False)\n",
    "        y_preds_test, y_confs_test = get_pred_conf(y_probs_test, normalize = False)\n",
    "            \n",
    "    ece = ECE(y_confs_test, y_preds_test, y_test, bin_size = bin_size)\n",
    "    mce = MCE(y_confs_test, y_preds_test, y_test, bin_size = bin_size)\n",
    "    accs_test, confs_test, len_bins_test = get_bin_info(y_confs_test, y_preds_test, y_test, bin_size = bin_size)\n",
    "    \n",
    "    return ((accs_test, confs_test, len_bins_test), ece, mce)\n",
    "    "
   ]
  },
  {
   "cell_type": "code",
   "execution_count": null,
   "metadata": {},
   "outputs": [],
   "source": [
    "def gen_plots(files, plot_names =  [], M = 15):\n",
    "    for i, file in enumerate(files):\n",
    "        \n",
    "        uc, uc_ece, uc_mce = cal_res(None, PATH, file, M)\n",
    "        ts, ts_ece, ts_mce = cal_res(TemperatureScaling, PATH, file, M, \"\", \"multi\")\n",
    "        hb, hb_ece, hb_mce = cal_res(HistogramBinning, PATH, file, M, \"\", \"single\", {'M':M})\n",
    "        ir, ir_ece, ir_mce = cal_res(IsotonicRegression, PATH, file, M, \"\", \"single\", {'y_min':0, 'y_max':1})\n",
    "        \n",
    "        accs_confs = []\n",
    "        accs_confs.append(uc)\n",
    "        accs_confs.append(ts)\n",
    "        accs_confs.append(hb)\n",
    "        accs_confs.append(ir)\n",
    "\n",
    "        plt.style.use('ggplot')\n",
    "        fig, ax = plt.subplots(nrows=1, ncols=4, figsize=(22.5, 6), sharex='col', sharey='row')\n",
    "        fig.suptitle('epoch_' + file.split('_')[1], size = 30)\n",
    "        names = [\" Uncal|ECE:{}|MCE:{} \".format(uc_ece, uc_mce),\n",
    "                 \" Temp|ECE:{}|MCE:{} \".format(ts_ece, ts_mce),\n",
    "                 \" Histo|ECE:{}|MCE:{}\".format(hb_ece, hb_mce),\n",
    "                 \" Iso|ECE:{}|MCE:{} \".format(ir_ece, ir_mce)]\n",
    "        \n",
    "        for j in range(4):\n",
    "            rel_diagram_sub(accs_confs[j][0], accs_confs[j][1], ax[j] , M = M, name = names[j], xname=\"Confidence\")\n",
    "\n",
    "        ax[0].set_ylabel(\"Accuracy\", color = \"black\")\n",
    "        \n",
    "        for ax_temp in ax:    \n",
    "            plt.setp(ax_temp.get_xticklabels(), rotation='horizontal', fontsize=18)\n",
    "            plt.setp(ax_temp.get_yticklabels(), fontsize=18)\n",
    "\n",
    "        plt.savefig(\"../../reliability_diagrams/EXP2/ls_1/epoch_\" + file.split('_')[1] + \".pdf\", format='pdf', dpi=1000, bbox_inches='tight', pad_inches=0.2)\n",
    "        plt.show()"
   ]
  },
  {
   "cell_type": "code",
   "execution_count": null,
   "metadata": {},
   "outputs": [],
   "source": [
    "gen_plots(files, M = 15)"
   ]
  }
 ],
 "metadata": {
  "kernelspec": {
   "display_name": "Python 3",
   "language": "python",
   "name": "python3"
  },
  "language_info": {
   "codemirror_mode": {
    "name": "ipython",
    "version": 3
   },
   "file_extension": ".py",
   "mimetype": "text/x-python",
   "name": "python",
   "nbconvert_exporter": "python",
   "pygments_lexer": "ipython3",
   "version": "3.7.6"
  }
 },
 "nbformat": 4,
 "nbformat_minor": 2
}
