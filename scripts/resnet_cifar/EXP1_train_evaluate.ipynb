{
 "cells": [
  {
   "cell_type": "markdown",
   "metadata": {},
   "source": [
    "# Train and Evaluate ResNet on CIFAR"
   ]
  },
  {
   "cell_type": "markdown",
   "metadata": {},
   "source": [
    "## Import"
   ]
  },
  {
   "cell_type": "code",
   "execution_count": null,
   "metadata": {},
   "outputs": [],
   "source": [
    "import keras\n",
    "import numpy as np\n",
    "from keras.datasets import cifar100\n",
    "from keras.preprocessing.image import ImageDataGenerator\n",
    "from keras.layers.normalization import BatchNormalization\n",
    "from keras.layers import Conv2D, Dense, Input, add, Activation, GlobalAveragePooling2D\n",
    "from keras.callbacks import LearningRateScheduler, TensorBoard, ModelCheckpoint\n",
    "from keras.models import Model\n",
    "from keras import optimizers, regularizers\n",
    "from sklearn.model_selection import train_test_split\n",
    "import pickle\n",
    "\n",
    "import sys\n",
    "from os import path\n",
    "sys.path.append( path.dirname( path.dirname( path.abspath(\"utility\") ) ) )\n",
    "from utility.evaluation import evaluate_model"
   ]
  },
  {
   "cell_type": "markdown",
   "metadata": {},
   "source": [
    "## Parameter"
   ]
  },
  {
   "cell_type": "code",
   "execution_count": null,
   "metadata": {},
   "outputs": [],
   "source": [
    "stack_n            = 18            \n",
    "num_classes        = 100\n",
    "img_rows, img_cols = 32, 32\n",
    "img_channels       = 3\n",
    "batch_size         = 128\n",
    "epochs             = 200\n",
    "iterations         = 45000 // batch_size\n",
    "weight_decay       = 0.0001\n",
    "seed = 333"
   ]
  },
  {
   "cell_type": "markdown",
   "metadata": {},
   "source": [
    "## Model"
   ]
  },
  {
   "cell_type": "code",
   "execution_count": null,
   "metadata": {},
   "outputs": [],
   "source": [
    "def scheduler(epoch):\n",
    "    if epoch < 80:\n",
    "        return 0.1\n",
    "    if epoch < 150:\n",
    "        return 0.01\n",
    "    return 0.001\n",
    "\n",
    "def residual_network(img_input,classes_num=10,stack_n=8):\n",
    "    def residual_block(intput,out_channel,increase=False):\n",
    "        if increase:\n",
    "            stride = (2,2)\n",
    "        else:\n",
    "            stride = (1,1)\n",
    "\n",
    "        pre_bn   = BatchNormalization()(intput)\n",
    "        pre_relu = Activation('relu')(pre_bn)\n",
    "\n",
    "        conv_1 = Conv2D(out_channel,kernel_size=(3,3),strides=stride,padding='same',\n",
    "                        kernel_initializer=\"he_normal\",\n",
    "                        kernel_regularizer=regularizers.l2(weight_decay))(pre_relu)\n",
    "        bn_1   = BatchNormalization()(conv_1)\n",
    "        relu1  = Activation('relu')(bn_1)\n",
    "        conv_2 = Conv2D(out_channel,kernel_size=(3,3),strides=(1,1),padding='same',\n",
    "                        kernel_initializer=\"he_normal\",\n",
    "                        kernel_regularizer=regularizers.l2(weight_decay))(relu1)\n",
    "        if increase:\n",
    "            projection = Conv2D(out_channel,\n",
    "                                kernel_size=(1,1),\n",
    "                                strides=(2,2),\n",
    "                                padding='same',\n",
    "                                kernel_initializer=\"he_normal\",\n",
    "                                kernel_regularizer=regularizers.l2(weight_decay))(intput)\n",
    "            block = add([conv_2, projection])\n",
    "        else:\n",
    "            block = add([intput,conv_2])\n",
    "        return block\n",
    "    \n",
    "    # input: 32x32x3 output: 32x32x16\n",
    "    x = Conv2D(filters=16,kernel_size=(3,3),strides=(1,1),padding='same',\n",
    "               kernel_initializer=\"he_normal\",\n",
    "               kernel_regularizer=regularizers.l2(weight_decay))(img_input)\n",
    "\n",
    "    # input: 32x32x16 output: 32x32x16\n",
    "    for _ in range(stack_n):\n",
    "        x = residual_block(x,16,False)\n",
    "\n",
    "    # input: 32x32x16 output: 16x16x32\n",
    "    x = residual_block(x,32,True)\n",
    "    for _ in range(1,stack_n):\n",
    "        x = residual_block(x,32,False)\n",
    "    \n",
    "    # input: 16x16x32 output: 8x8x64\n",
    "    x = residual_block(x,64,True)\n",
    "    for _ in range(1,stack_n):\n",
    "        x = residual_block(x,64,False)\n",
    "\n",
    "    x = BatchNormalization()(x)\n",
    "    x = Activation('relu')(x)\n",
    "    x = GlobalAveragePooling2D()(x)\n",
    "\n",
    "    # input: 64 output: 10\n",
    "    x = Dense(classes_num,activation='softmax',\n",
    "              kernel_initializer=\"he_normal\",\n",
    "              kernel_regularizer=regularizers.l2(weight_decay))(x)\n",
    "    return x"
   ]
  },
  {
   "cell_type": "markdown",
   "metadata": {},
   "source": [
    "## Prepare Dataset"
   ]
  },
  {
   "cell_type": "code",
   "execution_count": null,
   "metadata": {},
   "outputs": [],
   "source": [
    "(x_train_50, y_train_50), (x_test_10, y_test_10) = cifar100.load_data()\n",
    "y_train_50 = keras.utils.to_categorical(y_train_50, num_classes)\n",
    "y_test_10 = keras.utils.to_categorical(y_test_10, num_classes)\n",
    "\n",
    "x_train_45, x_val_5, y_train_45, y_val_5 = train_test_split(x_train_50, y_train_50, test_size=0.1, random_state=seed)\n",
    "\n",
    "img_mean = x_train_45.mean(axis=0)\n",
    "img_std = x_train_45.std(axis=0)\n",
    "x_train_45 = (x_train_45-img_mean)/img_std\n",
    "x_val_5 = (x_val_5-img_mean)/img_std\n",
    "x_test_10 = (x_test_10-img_mean)/img_std"
   ]
  },
  {
   "cell_type": "markdown",
   "metadata": {},
   "source": [
    "## Train"
   ]
  },
  {
   "cell_type": "code",
   "execution_count": null,
   "metadata": {},
   "outputs": [],
   "source": [
    "# build network\n",
    "img_input = Input(shape=(img_rows,img_cols,img_channels))\n",
    "output    = residual_network(img_input,num_classes,stack_n)\n",
    "resnet    = Model(img_input, output)\n",
    "print(resnet.summary())\n",
    "\n",
    "# set optimizer\n",
    "sgd = optimizers.SGD(lr=.1, momentum=0.9, nesterov=True)\n",
    "resnet.compile(loss='categorical_crossentropy', optimizer=sgd, metrics=['accuracy'])\n",
    "\n",
    "# set checkpoint\n",
    "checkpoint_path = '../../models/EXP1/weights.{epoch:03d}-{val_loss:.2f}.hdf5'\n",
    "cp_callback = ModelCheckpoint(filepath=checkpoint_path, save_weights_only=True, verbose=1)\n",
    "\n",
    "# set callback\n",
    "cbks = [LearningRateScheduler(scheduler), cp_callback]\n",
    "\n",
    "# set data augmentation\n",
    "print('Using real-time data augmentation.')\n",
    "datagen = ImageDataGenerator(horizontal_flip=True,\n",
    "                             width_shift_range=0.125,\n",
    "                             height_shift_range=0.125,\n",
    "                             fill_mode='constant',cval=0.)\n",
    "\n",
    "datagen.fit(x_train45)\n",
    "\n",
    "# start training\n",
    "hist = resnet.fit_generator(datagen.flow(x_train45, y_train45, batch_size=batch_size),\n",
    "                     steps_per_epoch=iterations,\n",
    "                     epochs=epochs,\n",
    "                     callbacks=cbks,\n",
    "                     validation_data=(x_val, y_val))\n",
    "\n",
    "print(\"Get test accuracy:\")\n",
    "loss, accuracy = resnet.evaluate(x_test, y_test, verbose=0)\n",
    "print(\"Test: accuracy1 = %f  ;  loss1 = %f\" % (accuracy, loss))"
   ]
  },
  {
   "cell_type": "markdown",
   "metadata": {},
   "source": [
    "## Evaluate"
   ]
  },
  {
   "cell_type": "code",
   "execution_count": null,
   "metadata": {},
   "outputs": [],
   "source": [
    "checkpoint = ''\n",
    "\n",
    "evaluate_model(resnet, '../../models/EXP1' + checkpoint, x_test_10, y_test_10, bins = 15, verbose = True, \n",
    "               pickle_file = '../../logits/EXP1/' + checkpoint, x_val = x_val_5, y_val = y_val_5)"
   ]
  }
 ],
 "metadata": {
  "kernelspec": {
   "display_name": "Python 3",
   "language": "python",
   "name": "python3"
  },
  "language_info": {
   "codemirror_mode": {
    "name": "ipython",
    "version": 3
   },
   "file_extension": ".py",
   "mimetype": "text/x-python",
   "name": "python",
   "nbconvert_exporter": "python",
   "pygments_lexer": "ipython3",
   "version": "3.6.9"
  }
 },
 "nbformat": 4,
 "nbformat_minor": 2
}
